{
  "nbformat": 4,
  "nbformat_minor": 0,
  "metadata": {
    "colab": {
      "name": "215112017HilalTekgoz_Odev4.ipynb",
      "provenance": [],
      "collapsed_sections": [],
      "authorship_tag": "ABX9TyMbIl5Ht6SABVpXM20ReLER",
      "include_colab_link": true
    },
    "kernelspec": {
      "name": "python3",
      "display_name": "Python 3"
    },
    "language_info": {
      "name": "python"
    }
  },
  "cells": [
    {
      "cell_type": "markdown",
      "metadata": {
        "id": "view-in-github",
        "colab_type": "text"
      },
      "source": [
        "<a href=\"https://colab.research.google.com/github/hilaltekgz/AyrikSistemlerlcinlleriOlasilik/blob/main/215112017HilalTekgoz_Odev3.ipynb\" target=\"_parent\"><img src=\"https://colab.research.google.com/assets/colab-badge.svg\" alt=\"Open In Colab\"/></a>"
      ]
    },
    {
      "cell_type": "markdown",
      "source": [
        "\n",
        "\n",
        "# **Temel Olasılık Örnekleri**\n",
        "\n"
      ],
      "metadata": {
        "id": "JhcaG5ef43RU"
      }
    },
    {
      "cell_type": "markdown",
      "source": [
        "**Örnek Uzay (S) :** Bir deneyin tüm sonuçlarını içeren kümedir.\n",
        "\n",
        "Olay Uzay  (E) : Örnek uzayın alt kümesidir.\n"
      ],
      "metadata": {
        "id": "IllHq7x_5Din"
      }
    },
    {
      "cell_type": "markdown",
      "source": [
        "**Örnek 1 :** S = {x,y,z,t,f}  z gelme olasılığı nedir ?\n",
        "\n",
        "**Çözüm :** E = {z}\n",
        "\n",
        "            Olasılık değeri : 1÷5 olur."
      ],
      "metadata": {
        "id": "DuNrl2WG5jD0"
      }
    },
    {
      "cell_type": "code",
      "source": [
        "s = ['x','y','z','t','f'] # Örnek uzay\n",
        "\n",
        "e = ['z'] # Olay uzay\n",
        "\n",
        "olasilikdegeri = len(e)/len(s) \n",
        "olasilikdegeri"
      ],
      "metadata": {
        "id": "iNKbRprw5ih6",
        "colab": {
          "base_uri": "https://localhost:8080/"
        },
        "outputId": "8ff15f4d-ae54-4c2a-8184-6d2dc6b268d6"
      },
      "execution_count": null,
      "outputs": [
        {
          "output_type": "execute_result",
          "data": {
            "text/plain": [
              "0.2"
            ]
          },
          "metadata": {},
          "execution_count": 2
        }
      ]
    },
    {
      "cell_type": "markdown",
      "source": [
        "**Örnek 1:** Bir zar atıp 2 veya 5 gelme olasılığı nedir?\n",
        "\n",
        "**Çözüm:** A olayını 2 almak ve B olayını 5 almak olarak tanımlarsak, bu iki olay birbirini dışlar çünkü aynı anda 2 ve 5 atamıyoruz. Böylece, 2 veya 5 alma olasılığımız şu şekilde hesaplanır:\n",
        "\n",
        "```\n",
        "# P(A∪B) = (1/6) + (1/6) = 2/6 = 1/3 = 0.33\n",
        "```\n",
        "\n",
        "\n"
      ],
      "metadata": {
        "id": "4cIFhuW5FNl4"
      }
    },
    {
      "cell_type": "code",
      "source": [
        "s =  [1,2,3,4,5,6]\n",
        "\n",
        "a = [2]\n",
        "\n",
        "b = [5]\n",
        "\n",
        "result = (len(a)/len(s)) + (len(b)/len(s))\n",
        "\n",
        "result"
      ],
      "metadata": {
        "colab": {
          "base_uri": "https://localhost:8080/"
        },
        "id": "fuBIxDgG7XiC",
        "outputId": "2a17151c-3561-4909-87fc-9ec13d39af32"
      },
      "execution_count": null,
      "outputs": [
        {
          "output_type": "execute_result",
          "data": {
            "text/plain": [
              "0.3333333333333333"
            ]
          },
          "metadata": {},
          "execution_count": 4
        }
      ]
    },
    {
      "cell_type": "markdown",
      "source": [
        "**Örnek 2:** Bir zar atarsak, 3'ten büyük veya çift sayı gelme olasılığı nedir?\n",
        "\n",
        "**Çözüm:** Bu örnekte, zarın hem 3'ten büyük hem de çift olan bir sayı üzerine gelmesi mümkündür \n",
        "\n",
        "\n",
        "\n",
        "```\n",
        "S = {1,2,3,4,5,6}\n",
        "A = {4,5,6}\n",
        "B = {2,4,6}\n",
        "```\n",
        "\n",
        "\n",
        "\n",
        "A olayının 3'ten büyük bir sayı yuvarlama olayı\n",
        "B olayının çift sayı olayi\n",
        "\n",
        "\n",
        "\n",
        "```\n",
        "P(A) = 3/6\n",
        "P(B) = 3/6\n",
        "P(A∩B) = 2/6\n",
        "\n",
        "P(A∪B) = P(A) + P(B) – P(A∩B) = (3/6) + (3/6) – (2/6) = 4/6 = 2/3 = 0.66\n",
        "```\n",
        "\n",
        "\n",
        "\n"
      ],
      "metadata": {
        "id": "iP8bVQqaLTA1"
      }
    },
    {
      "cell_type": "code",
      "source": [
        "s =  [1,2,3,4,5,6]\n",
        "\n",
        "a = [4,5,6]\n",
        "\n",
        "b = [2,4,6]\n",
        "\n",
        "c = [4,6]\n",
        "\n",
        "result = (len(a)/len(s)) + (len(b)/len(s)) - (len(c)/len(s))\n",
        "\n",
        "result"
      ],
      "metadata": {
        "colab": {
          "base_uri": "https://localhost:8080/"
        },
        "id": "Pmj32P5hK4XW",
        "outputId": "011acb1c-27ee-4d88-af0f-b4d81106dca9"
      },
      "execution_count": null,
      "outputs": [
        {
          "output_type": "execute_result",
          "data": {
            "text/plain": [
              "0.6666666666666667"
            ]
          },
          "metadata": {},
          "execution_count": 6
        }
      ]
    },
    {
      "cell_type": "code",
      "source": [
        ""
      ],
      "metadata": {
        "id": "yobjVaCtNZtE"
      },
      "execution_count": null,
      "outputs": []
    }
  ]
}