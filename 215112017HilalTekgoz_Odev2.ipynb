{
  "nbformat": 4,
  "nbformat_minor": 0,
  "metadata": {
    "colab": {
      "name": "215112017HilalTekgoz-Odev2.ipynb",
      "provenance": [],
      "collapsed_sections": [],
      "authorship_tag": "ABX9TyMSCoHjbIyWToFce6U2Kqbt",
      "include_colab_link": true
    },
    "kernelspec": {
      "name": "python3",
      "display_name": "Python 3"
    },
    "language_info": {
      "name": "python"
    }
  },
  "cells": [
    {
      "cell_type": "markdown",
      "metadata": {
        "id": "view-in-github",
        "colab_type": "text"
      },
      "source": [
        "<a href=\"https://colab.research.google.com/github/hilaltekgz/AyrikSistemlerlcinlleriOlasilik/blob/main/215112017HilalTekgoz_Odev2.ipynb\" target=\"_parent\"><img src=\"https://colab.research.google.com/assets/colab-badge.svg\" alt=\"Open In Colab\"/></a>"
      ]
    },
    {
      "cell_type": "markdown",
      "source": [
        "**Permütasyon**"
      ],
      "metadata": {
        "id": "VVq_-ciqW1kt"
      }
    },
    {
      "cell_type": "markdown",
      "source": [
        "**Soru :**\n",
        "6 öğrenci bir sıraya kaç değişik biçimde oturabilir?\n",
        "\n",
        "\n",
        "**Cevap :**\n",
        "6 öğrenci bir sıraya,\n",
        "**6! = 6 . 5 . 4 . 3 . 2 . 1 = 720** farklı şekilde oturabilir.\n"
      ],
      "metadata": {
        "id": "kRoyqHknW9Dx"
      }
    },
    {
      "cell_type": "code",
      "source": [
        "def faktoriyel(i):\n",
        "    \n",
        "    if i==1:       \n",
        "        return 1\n",
        "    \n",
        "    else: \n",
        "        return i * faktoriyel(i-1)\n",
        "    \n",
        "def permutasyon(j,k):\n",
        "    \n",
        "    l = 0\n",
        "    \n",
        "    if k>j:        \n",
        "        l = l\n",
        "    elif k==j:\n",
        "        l = 1 \n",
        "    else:      \n",
        "        l = faktoriyel(j)/faktoriyel(j-k)\n",
        "    return l\n",
        "        \n",
        "def kombinasyon(j,k):\n",
        "    \n",
        "    if (j<k):\n",
        "        print(\"1. Sayının 2. Sayıdan büyük yada eşit olması gerekli. Verdiğiniz sayıların çözümü yoktur!\")\n",
        "   \n",
        "    elif(j==k):\n",
        "        print(\"1\")\n",
        "        w = 1\n",
        "    elif(j>k):\n",
        "        \n",
        "        s=1\n",
        "        s= faktoriyel(j) #n faktöriyel\n",
        "        \n",
        "        l=1\n",
        "        l= faktoriyel(k) #m faktöriyel\n",
        "        \n",
        "        f=1\n",
        "        f= faktoriyel(j-k) #n-m faktöriyel\n",
        "        \n",
        "        w=s/(l*f)\n",
        "    return w\n",
        "\n",
        "if __name__ == '__main__':\n",
        "    print(\"Lütfen Hesaplayacağınız İşlemi ve Sayıyı Giriniz:\")   \n",
        "    islem = input(\"Faktoriyel işlemi ise F, Permütasyon işlemi ise P yazınız: \")\n",
        " \n",
        "    if islem == \"F\":\n",
        "      sayi = int(input(\"Sayı Giriniz: \"))\n",
        "      print(\"Sonuç:\", faktoriyel(sayi) )\n",
        "    elif islem == \"P\":\n",
        "      sayi1 = int(input(\"Sayı Giriniz: \"))\n",
        "      sayi2 = int(input(\"Sayı Giriniz: \"))\n",
        "      print(\"Sonuç:\", permutasyon(sayi1,sayi2) )\n",
        "    else:\n",
        "      print(\"Geçersiz giriş yaptınız.. Tekrar Deneyiniz..\")"
      ],
      "metadata": {
        "colab": {
          "base_uri": "https://localhost:8080/"
        },
        "id": "ntRSUGYhtmEa",
        "outputId": "f96be4f7-c733-4ddf-d634-a4ef6e4a1c63"
      },
      "execution_count": null,
      "outputs": [
        {
          "output_type": "stream",
          "name": "stdout",
          "text": [
            "Lütfen Hesaplayacağınız İşlemi ve Sayıyı Giriniz:\n",
            "Faktoriyel işlemi ise F, Permütasyon işlemi ise P yazınız: F\n",
            "Sayı Giriniz: 6\n",
            "Sonuç: 720\n"
          ]
        }
      ]
    },
    {
      "cell_type": "code",
      "source": [
        ""
      ],
      "metadata": {
        "id": "z2HB-hQxULfX"
      },
      "execution_count": null,
      "outputs": []
    },
    {
      "cell_type": "markdown",
      "source": [
        "**Kombinasyon**6"
      ],
      "metadata": {
        "id": "NWqq7LTzBuad"
      }
    },
    {
      "cell_type": "markdown",
      "source": [
        "**Soru :**\n",
        "5 kişilik bir grup, bir takside ikisi ön koltuğa, üçü arka koltuğa kaç farklı şekilde oturur?\n",
        "\n",
        "**Cevap :** \n",
        "\n",
        "P(5,2) -- 5 kişiden 2 kişi ön koltuğa oturur.\n",
        "\n",
        "P(3,3) -- 3 kişide arka koltuğa oturacaktır.\n",
        "\n",
        "2! ön koltuğa oturanlar kendi aralarında yer değiştirir.\n",
        "3! arka koltuğa oturanlar kendi aralarında yer değiştirir. \n",
        "\n",
        "2!.P(5,2).\n",
        "P(3,3).3! = 120"
      ],
      "metadata": {
        "id": "dsTX3MyMB3_u"
      }
    },
    {
      "cell_type": "code",
      "source": [
        "onkoltuk =  kombinasyon(5,2)\n",
        "arkakoltuk =  kombinasyon(3,3)\n",
        "onsira = faktoriyel(2)\n",
        "arkasira = faktoriyel(3)\n",
        "\n",
        "result = onkoltuk*onsira*arkakoltuk*arkasira\n",
        "result"
      ],
      "metadata": {
        "colab": {
          "base_uri": "https://localhost:8080/"
        },
        "id": "XX68eszKBtkq",
        "outputId": "0ac72df2-f9fa-4f26-8083-fe645f90756a"
      },
      "execution_count": null,
      "outputs": [
        {
          "output_type": "stream",
          "name": "stdout",
          "text": [
            "1\n"
          ]
        },
        {
          "output_type": "execute_result",
          "data": {
            "text/plain": [
              "120.0"
            ]
          },
          "metadata": {},
          "execution_count": 32
        }
      ]
    },
    {
      "cell_type": "code",
      "source": [
        ""
      ],
      "metadata": {
        "id": "5wb-cRvdtd6_"
      },
      "execution_count": null,
      "outputs": []
    }
  ]
}